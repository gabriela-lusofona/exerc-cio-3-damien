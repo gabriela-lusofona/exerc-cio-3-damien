{
 "cells": [
  {
   "cell_type": "code",
   "execution_count": 1,
   "metadata": {
    "collapsed": true
   },
   "outputs": [],
   "source": [
    "import pandas as pd"
   ]
  },
  {
   "cell_type": "markdown",
   "source": [
    "## Exercise\n",
    "1- Look at sensor data that tracks atmospheric $CO_2$ from continuous air samples at Mauna Loa Observatory in Hawaii. This data includes $CO_2$ samples from March 1958 to December 1980.\n",
    "- Determine the presence of main trend and seasonality in the data\n",
    "- Determine if the data are stationary\n",
    "- Split the data in train (90%) and test (10%)\n",
    "- Find a set of SARIMAX coordinate models by looking at the ACF and PACF plots.\n",
    "- Perform a grid search on the model candidates.\n",
    "- Select the best models, based on performance metrics, model complexity, and normality of the residuals.\n",
    "- Compare the best model you found with the one from autoarima."
   ],
   "metadata": {
    "collapsed": false
   }
  },
  {
   "cell_type": "code",
   "execution_count": 3,
   "outputs": [
    {
     "data": {
      "text/plain": "               co2\n1965-01-01  319.32\n1965-02-01  320.36\n1965-03-01  320.82\n1965-04-01  322.06\n1965-05-01  322.17\n...            ...\n1980-08-01  337.19\n1980-09-01  335.49\n1980-10-01  336.63\n1980-11-01  337.74\n1980-12-01  338.36\n\n[192 rows x 1 columns]",
      "text/html": "<div>\n<style scoped>\n    .dataframe tbody tr th:only-of-type {\n        vertical-align: middle;\n    }\n\n    .dataframe tbody tr th {\n        vertical-align: top;\n    }\n\n    .dataframe thead th {\n        text-align: right;\n    }\n</style>\n<table border=\"1\" class=\"dataframe\">\n  <thead>\n    <tr style=\"text-align: right;\">\n      <th></th>\n      <th>co2</th>\n    </tr>\n  </thead>\n  <tbody>\n    <tr>\n      <th>1965-01-01</th>\n      <td>319.32</td>\n    </tr>\n    <tr>\n      <th>1965-02-01</th>\n      <td>320.36</td>\n    </tr>\n    <tr>\n      <th>1965-03-01</th>\n      <td>320.82</td>\n    </tr>\n    <tr>\n      <th>1965-04-01</th>\n      <td>322.06</td>\n    </tr>\n    <tr>\n      <th>1965-05-01</th>\n      <td>322.17</td>\n    </tr>\n    <tr>\n      <th>...</th>\n      <td>...</td>\n    </tr>\n    <tr>\n      <th>1980-08-01</th>\n      <td>337.19</td>\n    </tr>\n    <tr>\n      <th>1980-09-01</th>\n      <td>335.49</td>\n    </tr>\n    <tr>\n      <th>1980-10-01</th>\n      <td>336.63</td>\n    </tr>\n    <tr>\n      <th>1980-11-01</th>\n      <td>337.74</td>\n    </tr>\n    <tr>\n      <th>1980-12-01</th>\n      <td>338.36</td>\n    </tr>\n  </tbody>\n</table>\n<p>192 rows × 1 columns</p>\n</div>"
     },
     "execution_count": 3,
     "metadata": {},
     "output_type": "execute_result"
    }
   ],
   "source": [
    "co2 = pd.read_csv('https://zenodo.org/records/10951538/files/arima_co2.csv?download=1',\n",
    "                  header = 0,\n",
    "                  names = ['idx', 'co2'],\n",
    "                  skipfooter = 2,\n",
    "                  engine='python')\n",
    "\n",
    "# convert the column idx into a datetime object and set it as the index\n",
    "co2['idx'] = pd.to_datetime(co2['idx'])\n",
    "co2.set_index('idx', inplace=True)\n",
    "\n",
    "# Rmove the name \"idx\" from the index column\n",
    "co2.index.name = None\n",
    "co2"
   ],
   "metadata": {
    "collapsed": false
   }
  },
  {
   "cell_type": "markdown",
   "source": [],
   "metadata": {
    "collapsed": false
   }
  },
  {
   "cell_type": "code",
   "execution_count": null,
   "outputs": [],
   "source": [],
   "metadata": {
    "collapsed": false
   }
  }
 ],
 "metadata": {
  "kernelspec": {
   "display_name": "Python 3",
   "language": "python",
   "name": "python3"
  },
  "language_info": {
   "codemirror_mode": {
    "name": "ipython",
    "version": 2
   },
   "file_extension": ".py",
   "mimetype": "text/x-python",
   "name": "python",
   "nbconvert_exporter": "python",
   "pygments_lexer": "ipython2",
   "version": "2.7.6"
  }
 },
 "nbformat": 4,
 "nbformat_minor": 0
}
